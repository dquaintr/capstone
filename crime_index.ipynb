{
 "cells": [
  {
   "attachments": {},
   "cell_type": "markdown",
   "metadata": {},
   "source": [
    "***In this notebook I take the mean average of the crime index for the entire country, instead of the individual values for different cities.*** "
   ]
  },
  {
   "cell_type": "code",
   "execution_count": 2,
   "metadata": {},
   "outputs": [],
   "source": [
    "#Importing the relevant stuff:\n",
    "# Import pandas\n",
    "import pandas as pd\n",
    "# Import get_dataframe function from the sql module\n",
    "from sql_functions  import get_dataframe\n",
    "from sql_functions  import get_engine\n",
    "import sqlalchemy\n",
    "import psycopg2"
   ]
  },
  {
   "attachments": {},
   "cell_type": "markdown",
   "metadata": {},
   "source": [
    "Now I take the table for the crime index we already have in our database. I do this by combining SQL and Python (writing a SQL function inside of Python.) This way, I can retrieve it from our schema and get it as a pandas dataframe. "
   ]
  },
  {
   "cell_type": "code",
   "execution_count": 3,
   "metadata": {},
   "outputs": [],
   "source": [
    "#note: password, host and username are in a different notebook, which will not be uploaded to github due to gitignore\n",
    "\n",
    "#define schema\n",
    "schema = 'bestteamever'\n",
    "\n",
    "# Import the needed tables from sql server and put it in dataframes\n",
    "\n",
    "df_crime_index = get_dataframe(f'select * from {schema}.final_european_crime_index;')"
   ]
  },
  {
   "cell_type": "code",
   "execution_count": 60,
   "metadata": {},
   "outputs": [],
   "source": [
    "schema= \"bestteamever\"\n",
    "\n",
    "this_df = get_dataframe(f'select * from {schema}.tableau_final_table')"
   ]
  },
  {
   "attachments": {},
   "cell_type": "markdown",
   "metadata": {},
   "source": [
    "Making sure that it is what I actually want:"
   ]
  },
  {
   "cell_type": "code",
   "execution_count": 14,
   "metadata": {},
   "outputs": [
    {
     "data": {
      "text/html": [
       "<div>\n",
       "<style scoped>\n",
       "    .dataframe tbody tr th:only-of-type {\n",
       "        vertical-align: middle;\n",
       "    }\n",
       "\n",
       "    .dataframe tbody tr th {\n",
       "        vertical-align: top;\n",
       "    }\n",
       "\n",
       "    .dataframe thead th {\n",
       "        text-align: right;\n",
       "    }\n",
       "</style>\n",
       "<table border=\"1\" class=\"dataframe\">\n",
       "  <thead>\n",
       "    <tr style=\"text-align: right;\">\n",
       "      <th></th>\n",
       "      <th>country</th>\n",
       "      <th>city</th>\n",
       "      <th>crime index</th>\n",
       "    </tr>\n",
       "  </thead>\n",
       "  <tbody>\n",
       "    <tr>\n",
       "      <th>0</th>\n",
       "      <td>United Kingdom</td>\n",
       "      <td>Bradford</td>\n",
       "      <td>71.24</td>\n",
       "    </tr>\n",
       "    <tr>\n",
       "      <th>1</th>\n",
       "      <td>United Kingdom</td>\n",
       "      <td>Coventry</td>\n",
       "      <td>68.35</td>\n",
       "    </tr>\n",
       "    <tr>\n",
       "      <th>2</th>\n",
       "      <td>France</td>\n",
       "      <td>Nantes</td>\n",
       "      <td>65.70</td>\n",
       "    </tr>\n",
       "    <tr>\n",
       "      <th>3</th>\n",
       "      <td>Kazakhstan</td>\n",
       "      <td>Almaty</td>\n",
       "      <td>64.17</td>\n",
       "    </tr>\n",
       "    <tr>\n",
       "      <th>4</th>\n",
       "      <td>Italy</td>\n",
       "      <td>Catania</td>\n",
       "      <td>63.51</td>\n",
       "    </tr>\n",
       "    <tr>\n",
       "      <th>5</th>\n",
       "      <td>United Kingdom</td>\n",
       "      <td>Birmingham</td>\n",
       "      <td>62.68</td>\n",
       "    </tr>\n",
       "    <tr>\n",
       "      <th>6</th>\n",
       "      <td>France</td>\n",
       "      <td>Marseille</td>\n",
       "      <td>62.51</td>\n",
       "    </tr>\n",
       "    <tr>\n",
       "      <th>7</th>\n",
       "      <td>Romania</td>\n",
       "      <td>Craiova</td>\n",
       "      <td>60.20</td>\n",
       "    </tr>\n",
       "    <tr>\n",
       "      <th>8</th>\n",
       "      <td>Italy</td>\n",
       "      <td>Naples</td>\n",
       "      <td>59.96</td>\n",
       "    </tr>\n",
       "    <tr>\n",
       "      <th>9</th>\n",
       "      <td>France</td>\n",
       "      <td>Nice</td>\n",
       "      <td>59.43</td>\n",
       "    </tr>\n",
       "    <tr>\n",
       "      <th>10</th>\n",
       "      <td>Belarus</td>\n",
       "      <td>Minsk</td>\n",
       "      <td>58.72</td>\n",
       "    </tr>\n",
       "    <tr>\n",
       "      <th>11</th>\n",
       "      <td>Belgium</td>\n",
       "      <td>Liege</td>\n",
       "      <td>57.38</td>\n",
       "    </tr>\n",
       "    <tr>\n",
       "      <th>12</th>\n",
       "      <td>Sweden</td>\n",
       "      <td>Malmo</td>\n",
       "      <td>56.59</td>\n",
       "    </tr>\n",
       "    <tr>\n",
       "      <th>13</th>\n",
       "      <td>Greece</td>\n",
       "      <td>Athens</td>\n",
       "      <td>56.42</td>\n",
       "    </tr>\n",
       "    <tr>\n",
       "      <th>14</th>\n",
       "      <td>France</td>\n",
       "      <td>Paris</td>\n",
       "      <td>56.02</td>\n",
       "    </tr>\n",
       "    <tr>\n",
       "      <th>15</th>\n",
       "      <td>United Kingdom</td>\n",
       "      <td>Manchester</td>\n",
       "      <td>55.81</td>\n",
       "    </tr>\n",
       "    <tr>\n",
       "      <th>16</th>\n",
       "      <td>France</td>\n",
       "      <td>Montpellier</td>\n",
       "      <td>55.16</td>\n",
       "    </tr>\n",
       "    <tr>\n",
       "      <th>17</th>\n",
       "      <td>Greece</td>\n",
       "      <td>Thessaloniki</td>\n",
       "      <td>54.80</td>\n",
       "    </tr>\n",
       "    <tr>\n",
       "      <th>18</th>\n",
       "      <td>Spain</td>\n",
       "      <td>Bilbao</td>\n",
       "      <td>54.42</td>\n",
       "    </tr>\n",
       "    <tr>\n",
       "      <th>19</th>\n",
       "      <td>France</td>\n",
       "      <td>Lille</td>\n",
       "      <td>54.33</td>\n",
       "    </tr>\n",
       "  </tbody>\n",
       "</table>\n",
       "</div>"
      ],
      "text/plain": [
       "           country          city  crime index\n",
       "0   United Kingdom      Bradford        71.24\n",
       "1   United Kingdom      Coventry        68.35\n",
       "2           France        Nantes        65.70\n",
       "3       Kazakhstan        Almaty        64.17\n",
       "4            Italy       Catania        63.51\n",
       "5   United Kingdom    Birmingham        62.68\n",
       "6           France     Marseille        62.51\n",
       "7          Romania       Craiova        60.20\n",
       "8            Italy        Naples        59.96\n",
       "9           France          Nice        59.43\n",
       "10         Belarus         Minsk        58.72\n",
       "11         Belgium         Liege        57.38\n",
       "12          Sweden         Malmo        56.59\n",
       "13          Greece        Athens        56.42\n",
       "14          France         Paris        56.02\n",
       "15  United Kingdom    Manchester        55.81\n",
       "16          France   Montpellier        55.16\n",
       "17          Greece  Thessaloniki        54.80\n",
       "18           Spain        Bilbao        54.42\n",
       "19          France         Lille        54.33"
      ]
     },
     "execution_count": 14,
     "metadata": {},
     "output_type": "execute_result"
    }
   ],
   "source": [
    "df_crime_index.head(20)"
   ]
  },
  {
   "cell_type": "code",
   "execution_count": 6,
   "metadata": {},
   "outputs": [
    {
     "data": {
      "text/plain": [
       "array(['United Kingdom', 'United Kingdom', 'France', 'Kazakhstan',\n",
       "       'Italy', 'United Kingdom', 'France', 'Romania', 'Italy', 'France',\n",
       "       'Belarus', 'Belgium', 'Sweden', 'Greece', 'France',\n",
       "       'United Kingdom', 'France', 'Greece', 'Spain', 'France', 'France',\n",
       "       'United Kingdom', 'Ukraine', 'Italy', 'France', 'Portugal',\n",
       "       'Ireland', 'Belgium', 'Ukraine', 'Russia', 'Italy', 'Ireland',\n",
       "       'Russia', 'France', 'Italy', 'United Kingdom', 'Romania', 'France',\n",
       "       'Spain', 'Ukraine', 'United Kingdom', 'France', 'Turkey', 'Sweden',\n",
       "       'Montenegro', 'Russia', 'Russia', 'Italy', 'North Macedonia',\n",
       "       'Italy', 'Italy', 'Sweden', 'United Kingdom', 'Ukraine',\n",
       "       'United Kingdom', 'Moldova', 'Albania', 'Germany', 'Norway',\n",
       "       'United Kingdom', 'United Kingdom', 'Germany', 'Germany', 'Italy',\n",
       "       'Germany', 'Bulgaria', 'Poland', 'United Kingdom', 'Germany',\n",
       "       'Serbia', 'Germany', 'Poland', 'Germany', 'Sweden', 'Germany',\n",
       "       'Ireland', 'Italy', 'Russia', 'Turkey', 'United Kingdom',\n",
       "       'Ukraine', 'Germany', 'Serbia', 'France', 'Latvia', 'Lithuania',\n",
       "       'Belgium', 'United Kingdom', 'Russia', 'Bulgaria', 'Finland',\n",
       "       'United Kingdom', 'Lithuania', 'Italy', 'Netherlands', 'Ireland',\n",
       "       'Portugal', 'Hungary', 'Germany', 'Norway', 'Sweden',\n",
       "       'United Kingdom', 'Romania', 'Croatia', 'Germany', 'Kazakhstan',\n",
       "       'Netherlands', 'Spain', 'Spain', 'Germany', 'Poland', 'Turkey',\n",
       "       'Poland', 'Germany', 'Germany', 'Poland', 'United Kingdom',\n",
       "       'Poland', 'Luxembourg', 'Spain', 'Slovakia', 'United Kingdom',\n",
       "       'Russia', 'Ireland', 'Portugal', 'Spain', 'Romania', 'Turkey',\n",
       "       'Spain', 'Austria', 'Poland', 'Norway', 'Spain', 'Turkey',\n",
       "       'Austria', 'Netherlands', 'Denmark', 'Switzerland', 'Lithuania',\n",
       "       'Romania', 'Belgium', 'Italy', 'Czech Republic', 'Denmark',\n",
       "       'Switzerland', 'Finland', 'Netherlands', 'Czech Republic',\n",
       "       'Romania', 'Estonia', 'Croatia', 'Norway', 'Iceland',\n",
       "       'Netherlands', 'Romania', 'Finland', 'Slovenia', 'Croatia',\n",
       "       'Netherlands', 'Estonia', 'Denmark', 'Switzerland', 'Romania',\n",
       "       'Switzerland', 'Norway', 'Turkey', 'Germany', 'Switzerland',\n",
       "       'Switzerland', 'Spain'], dtype=object)"
      ]
     },
     "execution_count": 6,
     "metadata": {},
     "output_type": "execute_result"
    }
   ],
   "source": [
    "df_crime_index.country.values"
   ]
  },
  {
   "cell_type": "code",
   "execution_count": 8,
   "metadata": {},
   "outputs": [
    {
     "data": {
      "text/plain": [
       "<bound method NDFrame.describe of             country           city  crime index\n",
       "0    United Kingdom       Bradford        71.24\n",
       "1    United Kingdom       Coventry        68.35\n",
       "2            France         Nantes        65.70\n",
       "3        Kazakhstan         Almaty        64.17\n",
       "4             Italy        Catania        63.51\n",
       "..              ...            ...          ...\n",
       "165          Turkey      Eskisehir        18.86\n",
       "166         Germany         Munich        18.66\n",
       "167     Switzerland           Bern        17.94\n",
       "168     Switzerland         Zurich        17.26\n",
       "169           Spain  San Sebastian        14.86\n",
       "\n",
       "[170 rows x 3 columns]>"
      ]
     },
     "execution_count": 8,
     "metadata": {},
     "output_type": "execute_result"
    }
   ],
   "source": [
    "df_crime_index.describe"
   ]
  },
  {
   "attachments": {},
   "cell_type": "markdown",
   "metadata": {},
   "source": [
    "Looks good! Now I have to group it by country and get the mean value of the crime index for this country. Simple."
   ]
  },
  {
   "cell_type": "code",
   "execution_count": 34,
   "metadata": {},
   "outputs": [
    {
     "name": "stderr",
     "output_type": "stream",
     "text": [
      "/var/folders/vj/ht3c_9md4r78d2zr0h85nbhm0000gn/T/ipykernel_1473/3715088047.py:1: FutureWarning: The default value of numeric_only in DataFrameGroupBy.mean is deprecated. In a future version, numeric_only will default to False. Either specify numeric_only or select only columns which should be valid for the function.\n",
      "  new_crime_index = df_crime_index.groupby(\"country\").mean()[\"crime index\"].reset_index()\n"
     ]
    }
   ],
   "source": [
    "new_crime_index = df_crime_index.groupby(\"country\").mean()[\"crime index\"].reset_index() "
   ]
  },
  {
   "attachments": {},
   "cell_type": "markdown",
   "metadata": {},
   "source": [
    "Checking how many and which countries are in the dataset."
   ]
  },
  {
   "cell_type": "code",
   "execution_count": 76,
   "metadata": {},
   "outputs": [
    {
     "data": {
      "text/plain": [
       "39"
      ]
     },
     "execution_count": 76,
     "metadata": {},
     "output_type": "execute_result"
    }
   ],
   "source": [
    "new_crime_index.country.nunique()"
   ]
  },
  {
   "cell_type": "code",
   "execution_count": 59,
   "metadata": {},
   "outputs": [
    {
     "data": {
      "text/plain": [
       "array(['Albania', 'Austria', 'Belarus', 'Belgium', 'Bulgaria', 'Croatia',\n",
       "       'Czech Republic', 'Denmark', 'Estonia', 'Finland', 'France',\n",
       "       'Germany', 'Greece', 'Hungary', 'Iceland', 'Ireland', 'Italy',\n",
       "       'Kazakhstan', 'Latvia', 'Lithuania', 'Luxembourg', 'Moldova',\n",
       "       'Montenegro', 'Netherlands', 'North Macedonia', 'Norway', 'Poland',\n",
       "       'Portugal', 'Romania', 'Russia', 'Serbia', 'Slovakia', 'Slovenia',\n",
       "       'Spain', 'Sweden', 'Switzerland', 'Turkey', 'Ukraine',\n",
       "       'United Kingdom'], dtype=object)"
      ]
     },
     "execution_count": 59,
     "metadata": {},
     "output_type": "execute_result"
    }
   ],
   "source": [
    "new_crime_index.country.values"
   ]
  },
  {
   "attachments": {},
   "cell_type": "markdown",
   "metadata": {},
   "source": [
    "While I'm at it, I can also round the numbers to one point after the decimal and change the name of the column."
   ]
  },
  {
   "cell_type": "code",
   "execution_count": 44,
   "metadata": {},
   "outputs": [],
   "source": [
    "new_crime_index = new_crime_index.round(1)"
   ]
  },
  {
   "cell_type": "code",
   "execution_count": 47,
   "metadata": {},
   "outputs": [],
   "source": [
    "new_crime_index = new_crime_index.rename(columns = {\"crime index\":\"crime_index\"})"
   ]
  },
  {
   "attachments": {},
   "cell_type": "markdown",
   "metadata": {},
   "source": [
    "And now I can import it to our schema. That was all!"
   ]
  },
  {
   "cell_type": "code",
   "execution_count": 48,
   "metadata": {},
   "outputs": [
    {
     "name": "stdout",
     "output_type": "stream",
     "text": [
      "The new_crime_index table was imported successfully.\n"
     ]
    }
   ],
   "source": [
    "#push the table into the database\n",
    "# Specify which table within your database you want to push your data to. Give your table an unambiguous name.\n",
    "# Example: flights_sp for Sina's flights table, flights_groupname or similar\n",
    "table_name = 'new_crime_index'\n",
    "# If the specified table doesn't exist yet, it will be created\n",
    "# With 'replace', your data will be replaced if the table already exists.\n",
    "\n",
    "# Write records stored in a dataframe to SQL database\n",
    "engine = get_engine()\n",
    "\n",
    "if engine!=None:\n",
    "    try:\n",
    "        new_crime_index.to_sql(name=table_name, # Name of SQL table\n",
    "                        con=engine, # Engine or connection\n",
    "                        if_exists='replace', # Drop the table before inserting new values \n",
    "                        schema=schema, # Use schmea that was defined earlier\n",
    "                        index=False, # Write DataFrame index as a column\n",
    "                        chunksize=5000, # Specify the number of rows in each batch to be written at a time\n",
    "                        method='multi') # Pass multiple values in a single INSERT clause\n",
    "        print(f\"The {table_name} table was imported successfully.\")\n",
    "    # Error handling\n",
    "    except (Exception, psycopg2.DatabaseError) as error:\n",
    "        print(error)\n",
    "        engine = None"
   ]
  }
 ],
 "metadata": {
  "kernelspec": {
   "display_name": "nf_sql",
   "language": "python",
   "name": "python3"
  },
  "language_info": {
   "codemirror_mode": {
    "name": "ipython",
    "version": 3
   },
   "file_extension": ".py",
   "mimetype": "text/x-python",
   "name": "python",
   "nbconvert_exporter": "python",
   "pygments_lexer": "ipython3",
   "version": "3.9.13 | packaged by conda-forge | (main, May 27 2022, 17:01:00) \n[Clang 13.0.1 ]"
  },
  "orig_nbformat": 4,
  "vscode": {
   "interpreter": {
    "hash": "a81d278bed5b5b59425dcb5a82ce505657686243c184b4a6b67e69d01c4d432e"
   }
  }
 },
 "nbformat": 4,
 "nbformat_minor": 2
}
