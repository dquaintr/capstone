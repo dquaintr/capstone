{
 "cells": [
  {
   "cell_type": "markdown",
   "metadata": {},
   "source": [
    "# Get Weather Data"
   ]
  },
  {
   "cell_type": "code",
   "execution_count": 1,
   "metadata": {},
   "outputs": [
    {
     "name": "stdout",
     "output_type": "stream",
     "text": [
      "            tavg  tmin  tmax   prcp  wspd    pres     tsun      city\n",
      "time                                                                \n",
      "2019-12-01   6.2   3.8   8.4   70.7  18.6  1012.2   3060.0  Duisburg\n",
      "2020-01-01   5.9   3.2   8.2   48.9  17.6  1022.6   2400.0  Duisburg\n",
      "2020-02-01   7.1   4.0  10.0  140.7  25.6  1012.9   3240.0  Duisburg\n",
      "2020-03-01   7.5   3.3  11.8   65.8  18.6  1017.5  10680.0  Duisburg\n",
      "2020-04-01  12.5   5.5  19.0   13.9  12.4  1017.6  17040.0  Duisburg\n",
      "2020-05-01  14.0   6.8  20.3    7.4  12.7  1021.0  16980.0  Duisburg\n",
      "2020-06-01  18.8  13.3  24.1   52.9  12.8  1013.0  11820.0  Duisburg\n",
      "2020-07-01  18.2  12.7  23.6   48.0  13.1  1016.7  11460.0  Duisburg\n",
      "2020-08-01  21.8  15.8  28.1   42.1  13.8  1013.0  11880.0  Duisburg\n",
      "2020-09-01  16.2  10.7  22.2   80.5  11.7  1016.3  12000.0  Duisburg\n",
      "2020-10-01  11.9   9.2  14.8   78.4  17.6  1010.9   2580.0  Duisburg\n",
      "2020-11-01   9.0   5.5  12.6   30.6  16.0  1022.7   6540.0  Duisburg\n",
      "2020-12-01   5.9   3.6   8.0   85.7  17.2  1006.4   2460.0  Duisburg\n",
      "2021-01-01   3.2   1.2   5.3   83.2  15.5  1011.1   1560.0  Duisburg\n",
      "2021-02-01   4.9   1.5   8.6   55.8  15.2  1018.6   6540.0  Duisburg\n",
      "2021-03-01   7.2   2.9  11.6   52.3  15.1  1021.6   8700.0  Duisburg\n",
      "2021-04-01   7.3   2.0  12.5   41.5  11.8  1020.3  11040.0  Duisburg\n",
      "2021-05-01  12.1   7.2  16.9   94.7  14.8  1011.5   9660.0  Duisburg\n",
      "2021-06-01  20.1  14.5  25.4   93.7  10.2  1017.4  14460.0  Duisburg\n",
      "2021-07-01  18.9  14.4  23.6  122.3  11.1  1014.6  10140.0  Duisburg\n",
      "2021-08-01  17.4  13.0  22.2   70.7  12.5  1015.8   7920.0  Duisburg\n",
      "2021-09-01  16.7  11.4  21.9   45.2  10.2  1019.0  11040.0  Duisburg\n",
      "2021-10-01  11.8   8.0  16.1   69.4  15.4  1017.4   7200.0  Duisburg\n",
      "2021-11-01   6.6   3.7   9.2   46.6  11.8  1015.9   2931.0  Duisburg\n",
      "2021-12-01   5.6   3.2   7.7   39.3  14.4  1014.0   1928.0  Duisburg\n",
      "2022-01-01   4.8   2.8   6.7   43.6  14.6  1024.2   1950.0  Duisburg\n",
      "2022-02-01   6.7   3.4   9.9   87.7  21.6  1015.8   5027.0  Duisburg\n",
      "2022-03-01   8.6   2.9  14.1   18.5  13.0  1024.7  14471.0  Duisburg\n",
      "2022-04-01  10.1   5.0  14.8   39.4  15.2  1015.1  12182.0  Duisburg\n",
      "2022-05-01  15.7   9.7  21.6   48.7  11.8  1018.1  15015.0  Duisburg\n",
      "2022-06-01  18.7  12.4  24.7   72.3  11.3  1016.1  15559.0  Duisburg\n",
      "2022-07-01  20.0  13.2  26.1   22.9  11.2  1020.4  15003.0  Duisburg\n",
      "2022-08-01  22.1  14.9  28.5    7.3  10.4  1017.2  17082.0  Duisburg\n",
      "2022-09-01  15.6  11.3  20.6  118.6  11.4  1012.7  10155.0  Duisburg\n",
      "2022-10-01  14.1   9.6  18.6   37.8  15.1  1018.7   8703.0  Duisburg\n",
      "2022-11-01   9.2   5.9  12.2   52.6  17.7  1013.1   5730.0  Duisburg\n"
     ]
    }
   ],
   "source": [
    "from datetime import datetime\n",
    "import matplotlib.pyplot as plt\n",
    "from meteostat import Point, Daily, Hourly, Monthly\n",
    "import pandas as pd\n",
    "\n",
    "# Set time period\n",
    "end = datetime(2022, 11, 15)\n",
    "start = datetime(2019, 12, 15)\n",
    "\n",
    "\n",
    "\n",
    "# Create Point for Locations\n",
    "new_york = Point(40.7128, -74.0060)\n",
    "boston = Point(42.3601, -71.0589)\n",
    "miami   = Point(25.7617, -80.1918)\n",
    "pittsburgh = Point(40.4406, -79.9959)\n",
    "philadelphia = Point(39.9526, -75.1652)\n",
    "cities = {\n",
    "'Duisburg': Point(51.4322, 6.7611)}\n",
    "\n",
    "#create a dictionary of cities and their points\n",
    "#cities = {'cologne':Cologne, 'boston':Point(42.3601, -71.0589), 'miami':Point(25.7617, -80.1918), 'pittsburgh':pittsburgh, 'philadelphia':philadelphia}\n",
    "# create a dictionary of cities faa codes\n",
    "#faa_codes = {'new york':'JFK', 'boston':'BOS', 'miami':'MIA', 'pittsburgh':'PIT', 'philadelphia':'PHL'}\n",
    "\n",
    "\n",
    "# Get daily data for 2013\n",
    "#create dataframe to store following data\n",
    "# df_hourly = pd.DataFrame()\n",
    "\n",
    "# #for loop to iterate through the dictionary and get the data for each city\n",
    "# for city in cities:\n",
    "#     data = Daily(cities[city], start, end)\n",
    "#     data = data.fetch()\n",
    "#     data['city'] = city\n",
    "#     #append the faa code to the dataframe for each city\n",
    "#     #data['faa_code'] = faa_codes[city]\n",
    "#     print(data)\n",
    "#     #crate a new column for the date\n",
    "#     data['date'] = data.index.date\n",
    "#     #create a new column for the hour\n",
    "   \n",
    "#     # Plot temperature with line at 2013-03-14 and 2013-03-15\n",
    "#     # data.plot(y='temp', xlim=(start, end), ylim=(0, 30), title=city)\n",
    "#     # plt.axvline(datetime(1993, 3, 14), color='red')\n",
    "#     # plt.axvline(datetime(1993, 3, 12), color='red')    \n",
    "#     #data.plot(y='tmax', title=city + ' max temp')\n",
    "#     # plt.title(city)\n",
    "#     # plt.show()\n",
    "#     # combine the dataframes into one dataframe using the concat function\n",
    "#     df_hourly = pd.concat([df_hourly, data], axis=0)\n",
    "\n",
    "df_monthly = pd.DataFrame()\n",
    "for city in cities:\n",
    "    data = Monthly(cities[city], start, end)\n",
    "    data = data.fetch()\n",
    "    data['city'] = city\n",
    "    #data['faa_code'] = faa_codes[city]\n",
    "    print(data)\n",
    "    #crate a new column for the date\n",
    "    data['date'] = data.index.date\n",
    "    # Plot temperature with line at 2013-03-14 and\n",
    "    # data.plot(y='temp', xlim=(start, end), ylim=(0, 30), title=city)\n",
    "    # plt.axvline(datetime(1993, 3, 14), color='red')\n",
    "    # plt.axvline(datetime(1993, 3, 12), color='red')    \n",
    "    # data.plot(y='tmax', title=city + ' max temp')\n",
    "    # plt.title(city)\n",
    "    # plt.show()\n",
    "    # combine the dataframes into one dataframe using the concat function\n",
    "    df_monthly = pd.concat([df_monthly, data], axis=0)\n"
   ]
  },
  {
   "cell_type": "code",
   "execution_count": 18,
   "metadata": {},
   "outputs": [
    {
     "data": {
      "text/plain": [
       "(36, 8)"
      ]
     },
     "execution_count": 18,
     "metadata": {},
     "output_type": "execute_result"
    }
   ],
   "source": [
    "df_monthly.shape"
   ]
  },
  {
   "cell_type": "code",
   "execution_count": 4,
   "metadata": {},
   "outputs": [
    {
     "data": {
      "text/plain": [
       "pandas.core.frame.DataFrame"
      ]
     },
     "execution_count": 4,
     "metadata": {},
     "output_type": "execute_result"
    }
   ],
   "source": [
    "type(data)"
   ]
  },
  {
   "cell_type": "markdown",
   "metadata": {},
   "source": [
    "## converting date and hour to datetime format"
   ]
  },
  {
   "cell_type": "code",
   "execution_count": 2,
   "metadata": {},
   "outputs": [],
   "source": [
    "df_monthly['date'] = pd.to_datetime(df_monthly['date'])"
   ]
  },
  {
   "cell_type": "code",
   "execution_count": 3,
   "metadata": {},
   "outputs": [
    {
     "data": {
      "text/html": [
       "<div>\n",
       "<style scoped>\n",
       "    .dataframe tbody tr th:only-of-type {\n",
       "        vertical-align: middle;\n",
       "    }\n",
       "\n",
       "    .dataframe tbody tr th {\n",
       "        vertical-align: top;\n",
       "    }\n",
       "\n",
       "    .dataframe thead th {\n",
       "        text-align: right;\n",
       "    }\n",
       "</style>\n",
       "<table border=\"1\" class=\"dataframe\">\n",
       "  <thead>\n",
       "    <tr style=\"text-align: right;\">\n",
       "      <th></th>\n",
       "      <th>tavg</th>\n",
       "      <th>tmin</th>\n",
       "      <th>tmax</th>\n",
       "      <th>prcp</th>\n",
       "      <th>wspd</th>\n",
       "      <th>pres</th>\n",
       "      <th>tsun</th>\n",
       "      <th>city</th>\n",
       "      <th>date</th>\n",
       "    </tr>\n",
       "    <tr>\n",
       "      <th>time</th>\n",
       "      <th></th>\n",
       "      <th></th>\n",
       "      <th></th>\n",
       "      <th></th>\n",
       "      <th></th>\n",
       "      <th></th>\n",
       "      <th></th>\n",
       "      <th></th>\n",
       "      <th></th>\n",
       "    </tr>\n",
       "  </thead>\n",
       "  <tbody>\n",
       "    <tr>\n",
       "      <th>2019-12-01</th>\n",
       "      <td>6.2</td>\n",
       "      <td>3.8</td>\n",
       "      <td>8.4</td>\n",
       "      <td>70.7</td>\n",
       "      <td>18.6</td>\n",
       "      <td>1012.2</td>\n",
       "      <td>3060.0</td>\n",
       "      <td>Duisburg</td>\n",
       "      <td>2019-12-01</td>\n",
       "    </tr>\n",
       "    <tr>\n",
       "      <th>2020-01-01</th>\n",
       "      <td>5.9</td>\n",
       "      <td>3.2</td>\n",
       "      <td>8.2</td>\n",
       "      <td>48.9</td>\n",
       "      <td>17.6</td>\n",
       "      <td>1022.6</td>\n",
       "      <td>2400.0</td>\n",
       "      <td>Duisburg</td>\n",
       "      <td>2020-01-01</td>\n",
       "    </tr>\n",
       "    <tr>\n",
       "      <th>2020-02-01</th>\n",
       "      <td>7.1</td>\n",
       "      <td>4.0</td>\n",
       "      <td>10.0</td>\n",
       "      <td>140.7</td>\n",
       "      <td>25.6</td>\n",
       "      <td>1012.9</td>\n",
       "      <td>3240.0</td>\n",
       "      <td>Duisburg</td>\n",
       "      <td>2020-02-01</td>\n",
       "    </tr>\n",
       "    <tr>\n",
       "      <th>2020-03-01</th>\n",
       "      <td>7.5</td>\n",
       "      <td>3.3</td>\n",
       "      <td>11.8</td>\n",
       "      <td>65.8</td>\n",
       "      <td>18.6</td>\n",
       "      <td>1017.5</td>\n",
       "      <td>10680.0</td>\n",
       "      <td>Duisburg</td>\n",
       "      <td>2020-03-01</td>\n",
       "    </tr>\n",
       "    <tr>\n",
       "      <th>2020-04-01</th>\n",
       "      <td>12.5</td>\n",
       "      <td>5.5</td>\n",
       "      <td>19.0</td>\n",
       "      <td>13.9</td>\n",
       "      <td>12.4</td>\n",
       "      <td>1017.6</td>\n",
       "      <td>17040.0</td>\n",
       "      <td>Duisburg</td>\n",
       "      <td>2020-04-01</td>\n",
       "    </tr>\n",
       "  </tbody>\n",
       "</table>\n",
       "</div>"
      ],
      "text/plain": [
       "            tavg  tmin  tmax   prcp  wspd    pres     tsun      city  \\\n",
       "time                                                                   \n",
       "2019-12-01   6.2   3.8   8.4   70.7  18.6  1012.2   3060.0  Duisburg   \n",
       "2020-01-01   5.9   3.2   8.2   48.9  17.6  1022.6   2400.0  Duisburg   \n",
       "2020-02-01   7.1   4.0  10.0  140.7  25.6  1012.9   3240.0  Duisburg   \n",
       "2020-03-01   7.5   3.3  11.8   65.8  18.6  1017.5  10680.0  Duisburg   \n",
       "2020-04-01  12.5   5.5  19.0   13.9  12.4  1017.6  17040.0  Duisburg   \n",
       "\n",
       "                 date  \n",
       "time                   \n",
       "2019-12-01 2019-12-01  \n",
       "2020-01-01 2020-01-01  \n",
       "2020-02-01 2020-02-01  \n",
       "2020-03-01 2020-03-01  \n",
       "2020-04-01 2020-04-01  "
      ]
     },
     "execution_count": 3,
     "metadata": {},
     "output_type": "execute_result"
    }
   ],
   "source": [
    "df_monthly.head()"
   ]
  },
  {
   "cell_type": "code",
   "execution_count": 3,
   "metadata": {},
   "outputs": [
    {
     "ename": "NameError",
     "evalue": "name 'df_hourly' is not defined",
     "output_type": "error",
     "traceback": [
      "\u001b[0;31m---------------------------------------------------------------------------\u001b[0m",
      "\u001b[0;31mNameError\u001b[0m                                 Traceback (most recent call last)",
      "Cell \u001b[0;32mIn [3], line 1\u001b[0m\n\u001b[0;32m----> 1\u001b[0m df_hourly\u001b[39m.\u001b[39mhead(\u001b[39m40\u001b[39m)\n\u001b[1;32m      2\u001b[0m df_hourly\u001b[39m.\u001b[39minfo()\n\u001b[1;32m      3\u001b[0m \u001b[39m#convert the date column to a datetime object\u001b[39;00m\n",
      "\u001b[0;31mNameError\u001b[0m: name 'df_hourly' is not defined"
     ]
    }
   ],
   "source": [
    "df_hourly.head(40)\n",
    "df_hourly.info()\n",
    "#convert the date column to a datetime object\n",
    "df_hourly['date'] = pd.to_datetime(df_hourly['date'])\n",
    "#convert the hour column to a datetime object\n",
    "df_hourly['hour'] = pd.to_datetime(df_hourly['hour'], format='%H').dt.time\n",
    "\n",
    "#df_hourly.info()\n",
    "#df_hourly.head(40)\n"
   ]
  },
  {
   "cell_type": "code",
   "execution_count": 6,
   "metadata": {},
   "outputs": [
    {
     "ename": "KeyError",
     "evalue": "'date'",
     "output_type": "error",
     "traceback": [
      "\u001b[0;31m---------------------------------------------------------------------------\u001b[0m",
      "\u001b[0;31mKeyError\u001b[0m                                  Traceback (most recent call last)",
      "File \u001b[0;32m/opt/homebrew/Caskroom/miniconda/base/envs/nf_sql/lib/python3.9/site-packages/pandas/core/indexes/base.py:3803\u001b[0m, in \u001b[0;36mIndex.get_loc\u001b[0;34m(self, key, method, tolerance)\u001b[0m\n\u001b[1;32m   3802\u001b[0m \u001b[39mtry\u001b[39;00m:\n\u001b[0;32m-> 3803\u001b[0m     \u001b[39mreturn\u001b[39;00m \u001b[39mself\u001b[39;49m\u001b[39m.\u001b[39;49m_engine\u001b[39m.\u001b[39;49mget_loc(casted_key)\n\u001b[1;32m   3804\u001b[0m \u001b[39mexcept\u001b[39;00m \u001b[39mKeyError\u001b[39;00m \u001b[39mas\u001b[39;00m err:\n",
      "File \u001b[0;32m/opt/homebrew/Caskroom/miniconda/base/envs/nf_sql/lib/python3.9/site-packages/pandas/_libs/index.pyx:138\u001b[0m, in \u001b[0;36mpandas._libs.index.IndexEngine.get_loc\u001b[0;34m()\u001b[0m\n",
      "File \u001b[0;32m/opt/homebrew/Caskroom/miniconda/base/envs/nf_sql/lib/python3.9/site-packages/pandas/_libs/index.pyx:165\u001b[0m, in \u001b[0;36mpandas._libs.index.IndexEngine.get_loc\u001b[0;34m()\u001b[0m\n",
      "File \u001b[0;32mpandas/_libs/hashtable_class_helper.pxi:5745\u001b[0m, in \u001b[0;36mpandas._libs.hashtable.PyObjectHashTable.get_item\u001b[0;34m()\u001b[0m\n",
      "File \u001b[0;32mpandas/_libs/hashtable_class_helper.pxi:5753\u001b[0m, in \u001b[0;36mpandas._libs.hashtable.PyObjectHashTable.get_item\u001b[0;34m()\u001b[0m\n",
      "\u001b[0;31mKeyError\u001b[0m: 'date'",
      "\nThe above exception was the direct cause of the following exception:\n",
      "\u001b[0;31mKeyError\u001b[0m                                  Traceback (most recent call last)",
      "Cell \u001b[0;32mIn [6], line 3\u001b[0m\n\u001b[1;32m      1\u001b[0m \u001b[39m#df_daily.info()\u001b[39;00m\n\u001b[1;32m      2\u001b[0m \u001b[39m#convert the date column to a datetime object\u001b[39;00m\n\u001b[0;32m----> 3\u001b[0m df_daily[\u001b[39m'\u001b[39m\u001b[39mdate\u001b[39m\u001b[39m'\u001b[39m] \u001b[39m=\u001b[39m pd\u001b[39m.\u001b[39mto_datetime(df_daily[\u001b[39m'\u001b[39;49m\u001b[39mdate\u001b[39;49m\u001b[39m'\u001b[39;49m])\n\u001b[1;32m      4\u001b[0m df_daily\u001b[39m.\u001b[39minfo()\n",
      "File \u001b[0;32m/opt/homebrew/Caskroom/miniconda/base/envs/nf_sql/lib/python3.9/site-packages/pandas/core/frame.py:3804\u001b[0m, in \u001b[0;36mDataFrame.__getitem__\u001b[0;34m(self, key)\u001b[0m\n\u001b[1;32m   3802\u001b[0m \u001b[39mif\u001b[39;00m \u001b[39mself\u001b[39m\u001b[39m.\u001b[39mcolumns\u001b[39m.\u001b[39mnlevels \u001b[39m>\u001b[39m \u001b[39m1\u001b[39m:\n\u001b[1;32m   3803\u001b[0m     \u001b[39mreturn\u001b[39;00m \u001b[39mself\u001b[39m\u001b[39m.\u001b[39m_getitem_multilevel(key)\n\u001b[0;32m-> 3804\u001b[0m indexer \u001b[39m=\u001b[39m \u001b[39mself\u001b[39;49m\u001b[39m.\u001b[39;49mcolumns\u001b[39m.\u001b[39;49mget_loc(key)\n\u001b[1;32m   3805\u001b[0m \u001b[39mif\u001b[39;00m is_integer(indexer):\n\u001b[1;32m   3806\u001b[0m     indexer \u001b[39m=\u001b[39m [indexer]\n",
      "File \u001b[0;32m/opt/homebrew/Caskroom/miniconda/base/envs/nf_sql/lib/python3.9/site-packages/pandas/core/indexes/base.py:3805\u001b[0m, in \u001b[0;36mIndex.get_loc\u001b[0;34m(self, key, method, tolerance)\u001b[0m\n\u001b[1;32m   3803\u001b[0m     \u001b[39mreturn\u001b[39;00m \u001b[39mself\u001b[39m\u001b[39m.\u001b[39m_engine\u001b[39m.\u001b[39mget_loc(casted_key)\n\u001b[1;32m   3804\u001b[0m \u001b[39mexcept\u001b[39;00m \u001b[39mKeyError\u001b[39;00m \u001b[39mas\u001b[39;00m err:\n\u001b[0;32m-> 3805\u001b[0m     \u001b[39mraise\u001b[39;00m \u001b[39mKeyError\u001b[39;00m(key) \u001b[39mfrom\u001b[39;00m \u001b[39merr\u001b[39;00m\n\u001b[1;32m   3806\u001b[0m \u001b[39mexcept\u001b[39;00m \u001b[39mTypeError\u001b[39;00m:\n\u001b[1;32m   3807\u001b[0m     \u001b[39m# If we have a listlike key, _check_indexing_error will raise\u001b[39;00m\n\u001b[1;32m   3808\u001b[0m     \u001b[39m#  InvalidIndexError. Otherwise we fall through and re-raise\u001b[39;00m\n\u001b[1;32m   3809\u001b[0m     \u001b[39m#  the TypeError.\u001b[39;00m\n\u001b[1;32m   3810\u001b[0m     \u001b[39mself\u001b[39m\u001b[39m.\u001b[39m_check_indexing_error(key)\n",
      "\u001b[0;31mKeyError\u001b[0m: 'date'"
     ]
    }
   ],
   "source": [
    "#df_daily.info()\n",
    "#convert the date column to a datetime object\n",
    "df_daily['date'] = pd.to_datetime(df_daily['date'])\n",
    "df_daily.info()"
   ]
  },
  {
   "cell_type": "markdown",
   "metadata": {},
   "source": []
  },
  {
   "cell_type": "markdown",
   "metadata": {},
   "source": [
    "converting to CSV which is totally unneccesary "
   ]
  },
  {
   "cell_type": "code",
   "execution_count": null,
   "metadata": {},
   "outputs": [],
   "source": [
    "df_daily.head()\n",
    "#make csv file and save it to a data folder\n",
    "df_daily.to_csv('data/df_daily.csv')\n",
    "# make dir for data\n",
    "#!mkdir data\n",
    "#make csv file and save it to a data folder\n",
    "#df_hourly.to_csv('data/df_hourly.csv')\n"
   ]
  },
  {
   "cell_type": "markdown",
   "metadata": {},
   "source": [
    "## Exporting to Database"
   ]
  },
  {
   "cell_type": "code",
   "execution_count": null,
   "metadata": {},
   "outputs": [],
   "source": [
    "import pandas as pd\n",
    "import numpy as np\n",
    "import psycopg2 # needed to get database exception errors when uploading dataframe\n",
    "from dotenv import dotenv_values\n",
    "# Import the get_engine function from our sql_functions.\n",
    "from sql_functions import get_engine\n",
    "#adjust this as necessary to match your sql_functions.py connection methods"
   ]
  },
  {
   "cell_type": "code",
   "execution_count": null,
   "metadata": {},
   "outputs": [
    {
     "name": "stdout",
     "output_type": "stream",
     "text": [
      "The weather_daily_group4 table was imported successfully.\n"
     ]
    }
   ],
   "source": [
    "schema = 'cgn_analytics_22_3'\n",
    "# Specify which table within your database you want to push your data to. Give your table an unambiguous name.\n",
    "# Example: flights_sp for Sina's flights table, flights_groupname or similar\n",
    "table_name1 = 'weather_hourly_group4'\n",
    "# If the specified table doesn't exist yet, it will be created\n",
    "# With 'replace', your data will be replaced if the table already exists.\n",
    "# This may take some time ...\n",
    "engine = get_engine()\n",
    "# Write records stored in a dataframe to SQL database\n",
    "if engine!=None:\n",
    "    try:\n",
    "        df_hourly.to_sql(name=table_name1, # Name of SQL table\n",
    "                        con=engine, # Engine or connection\n",
    "                        if_exists='replace', # Drop the table before inserting new values \n",
    "                        schema=schema, # Use schmea that was defined earlier\n",
    "                        index=False, # Write DataFrame index as a column\n",
    "                        chunksize=5000, # Specify the number of rows in each batch to be written at a time\n",
    "                        method='multi') # Pass multiple values in a single INSERT clause\n",
    "        print(f\"The {table_name} table was imported successfully.\")\n",
    "    # Error handling\n",
    "    except (Exception, psycopg2.DatabaseError) as error:\n",
    "        print(error)\n",
    "        engine = None"
   ]
  },
  {
   "cell_type": "markdown",
   "metadata": {},
   "source": []
  },
  {
   "cell_type": "code",
   "execution_count": null,
   "metadata": {},
   "outputs": [
    {
     "name": "stdout",
     "output_type": "stream",
     "text": [
      "The weather_daily_group4 table was imported successfully.\n"
     ]
    }
   ],
   "source": [
    "table_name2 = 'weather_daily_group4'\n",
    "# If the specified table doesn't exist yet, it will be created\n",
    "# With 'replace', your data will be replaced if the table already exists.\n",
    "# This may take some time ...\n",
    "\n",
    "# Write records stored in a dataframe to SQL database\n",
    "if engine!=None:\n",
    "    try:\n",
    "        df_daily.to_sql(name=table_name2, # Name of SQL table\n",
    "                        con=engine, # Engine or connection\n",
    "                        if_exists='replace', # Drop the table before inserting new values \n",
    "                        schema=schema, # Use schmea that was defined earlier\n",
    "                        index=False, # Write DataFrame index as a column\n",
    "                        chunksize=5000, # Specify the number of rows in each batch to be written at a time\n",
    "                        method='multi') # Pass multiple values in a single INSERT clause\n",
    "        print(f\"The {table_name} table was imported successfully.\")\n",
    "    # Error handling\n",
    "    except (Exception, psycopg2.DatabaseError) as error:\n",
    "        print(error)\n",
    "        engine = None"
   ]
  },
  {
   "cell_type": "code",
   "execution_count": null,
   "metadata": {},
   "outputs": [
    {
     "data": {
      "text/plain": [
       "155"
      ]
     },
     "execution_count": 22,
     "metadata": {},
     "output_type": "execute_result"
    }
   ],
   "source": [
    "# Just to be sure: Check if the number of rows match#\n",
    "table_name2 = 'weather_daily_group4'\n",
    "\n",
    "table_name_sql = f'''SELECT count(*) \n",
    "                    FROM {schema}.{table_name2}\n",
    "                    '''\n",
    "engine.execute(table_name_sql).fetchall()[0][0]"
   ]
  },
  {
   "cell_type": "markdown",
   "metadata": {},
   "source": [
    "## Plot stuff, which has no place here"
   ]
  },
  {
   "cell_type": "code",
   "execution_count": null,
   "metadata": {},
   "outputs": [
    {
     "name": "stdout",
     "output_type": "stream",
     "text": [
      "            tavg  tmin  tmax  prcp   snow   wdir  wspd   wpgt    pres  tsun\n",
      "time                                                                       \n",
      "1993-03-01   1.0  -4.4   7.8   0.0    0.0  289.0  16.6   33.5  1016.2   NaN\n",
      "1993-03-02   5.5  -1.7  12.2   0.0    0.0  285.0  12.2   42.5  1010.8   NaN\n",
      "1993-03-03   6.2   3.3  10.6   0.0    0.0   94.0  11.5   22.3  1016.4   NaN\n",
      "1993-03-04   4.1   2.8   5.6  20.3    0.0   55.0  31.3  100.1  1014.2   NaN\n",
      "1993-03-05   2.3  -0.6   3.9   8.9    0.0   45.0  22.3   48.2  1007.2   NaN\n",
      "1993-03-06   2.4  -0.6   6.1   0.0   25.0  300.0  17.3   33.5  1009.9   NaN\n",
      "1993-03-07   6.1   1.1  11.1   0.0    0.0  252.0  18.4   40.7  1014.1   NaN\n",
      "1993-03-08   7.9   3.9  13.9   0.0    0.0  198.0  12.6   40.7  1006.3   NaN\n",
      "1993-03-09   6.0   2.8  10.6   0.0    0.0  288.0  26.3   55.4  1010.2   NaN\n",
      "1993-03-10   2.8   1.1   6.1   1.8    0.0   18.0  13.3   31.3  1014.1   NaN\n",
      "1993-03-11   3.2  -0.6   6.7   0.0    0.0    NaN  29.2   61.2  1011.3   NaN\n",
      "1993-03-12   2.0  -2.8   6.1   0.0    0.0  266.0  15.1   38.9  1023.7   NaN\n",
      "1993-03-13   0.1  -2.2   3.9  68.8   25.0   64.0  32.4   79.6   998.3   NaN\n",
      "1993-03-14  -4.6  -7.8   4.4   2.5  330.0  291.0  38.2   77.8   994.0   NaN\n",
      "1993-03-15  -5.3 -10.0  -1.1   0.0  330.0  269.0  22.0   61.2  1031.5   NaN\n",
      "1993-03-16   2.0  -4.4   7.8   0.0  305.0  195.0  16.6   40.7  1035.8   NaN\n",
      "1993-03-17   5.0  -3.3   9.4  25.1  203.0  219.0  14.0   55.4  1023.6   NaN\n",
      "1993-03-18  -5.7 -10.0  -1.1   0.0  178.0    0.0  27.7   63.0  1032.2   NaN\n",
      "1993-03-19  -4.4 -10.0   2.2   0.0  127.0   41.0  14.8   31.3  1041.2   NaN\n",
      "1993-03-20   0.4  -5.0   5.0   0.3  102.0    NaN  10.8   25.9  1035.1   NaN\n",
      "1993-03-21   4.0   1.1   8.3   4.8   76.0  212.0  11.9   27.7  1027.9   NaN\n",
      "1993-03-22   5.7   0.6  10.6   0.0   76.0  311.0  16.6   37.1  1030.2   NaN\n",
      "1993-03-23   4.0  -0.6   7.8  10.7    0.0   81.0  10.8   20.5  1032.7   NaN\n",
      "1993-03-24   4.3   2.8   5.0  21.8    0.0   39.0  18.0   35.3  1022.7   NaN\n",
      "1993-03-25   7.6   3.9  12.2   0.0    0.0   11.0  16.6   31.3  1023.7   NaN\n",
      "1993-03-26  12.8   8.3  19.4   0.0    0.0    NaN   9.0   20.5  1022.6   NaN\n",
      "1993-03-27  11.7   6.1  17.2   0.0    0.0    NaN  11.2   25.9  1020.4   NaN\n",
      "1993-03-28  11.2   9.4  13.3  11.9    0.0   40.0  18.7   35.3  1013.9   NaN\n",
      "1993-03-29  12.2  10.6  13.9   6.1    0.0   18.0  17.3   29.5  1007.4   NaN\n",
      "1993-03-30  10.9   8.9  12.2   0.3    0.0   14.0  19.1   37.1  1007.5   NaN\n",
      "1993-03-31  11.9   7.8  18.9   0.0    0.0   79.0  14.0   27.7  1013.7   NaN\n",
      "            tavg  tmin  tmax  prcp   snow   wdir  wspd   wpgt    pres   tsun\n",
      "time                                                                        \n",
      "1993-03-01   0.6  -5.6   6.7   0.0   76.0  304.0  21.2   40.7  1011.8  675.0\n",
      "1993-03-02   2.5  -1.7   6.1   0.0   76.0  288.0  16.2   40.7  1008.7  672.0\n",
      "1993-03-03   3.8   0.6   8.9   0.0   76.0  313.0  15.5   48.2  1015.9  576.0\n",
      "1993-03-04   2.7   0.6   4.4   0.3   51.0   40.0  31.0   85.0  1023.3  133.0\n",
      "1993-03-05   0.6  -3.9   2.8  23.1   76.0   46.0  43.9   92.5  1012.6    0.0\n",
      "1993-03-06  -1.2  -5.0   5.0   0.5  229.0    0.0  21.2   50.0  1007.4  529.0\n",
      "1993-03-07   3.9  -0.6   8.3   0.0  152.0  266.0  20.2   53.6  1010.9  691.0\n",
      "1993-03-08   4.4   0.0   9.4   0.0  102.0  165.0  11.9   24.1  1007.1  489.0\n",
      "1993-03-09   4.6   2.8   7.2   1.5   76.0  303.0  18.7   48.2  1005.5   45.0\n",
      "1993-03-10   2.8   0.6   5.6   4.8   25.0  203.0  19.8   37.1  1013.6  500.0\n",
      "1993-03-11   2.3  -1.1   5.0   5.1   51.0  318.0  23.4   53.6  1005.8  145.0\n",
      "1993-03-12  -2.2  -4.4   0.0   0.0   25.0  316.0  22.7   48.2  1022.0  665.0\n",
      "1993-03-13  -0.4  -2.8   2.2  46.5   25.0   74.0  41.0  129.6  1008.3    0.0\n",
      "1993-03-14  -2.9  -7.2   5.0   3.0  229.0  268.0  42.1   94.3   984.7  463.0\n",
      "1993-03-15  -6.3 -11.1  -2.2   0.0  229.0  277.0  25.6   53.6  1027.0  715.0\n",
      "1993-03-16   1.1  -5.0   6.1   0.0  203.0  209.0  33.1   68.4  1035.3  680.0\n",
      "1993-03-17   7.0  -3.3  11.1  18.8  127.0  227.0  28.4   72.0  1023.0   63.0\n",
      "1993-03-18  -5.6  -8.9  -1.1   3.8  178.0  334.0  27.7   53.6  1029.8  589.0\n",
      "1993-03-19  -5.9 -10.6  -2.2   0.0  152.0   26.0  16.6   33.5  1041.7  686.0\n",
      "1993-03-20  -1.0  -6.7   5.6   0.0  102.0  190.0  16.6   37.1  1034.9  604.0\n",
      "1993-03-21   2.8   0.0   5.6   1.8   76.0  214.0  18.4   37.1  1027.4   53.0\n",
      "1993-03-22   5.6   2.2   9.4   0.0   51.0  297.0  21.2   48.2  1027.8  559.0\n",
      "1993-03-23   3.0   0.0   5.0   0.3   25.0  128.0  16.6   35.3  1032.8  542.0\n",
      "1993-03-24   1.5   0.6   2.2  36.6  127.0   62.0  19.1   38.9  1027.4    0.0\n",
      "1993-03-25   3.2   1.7   5.0   0.0  127.0    9.0  15.8   35.3  1025.1    0.0\n",
      "1993-03-26   8.3   3.3  13.9   0.0   76.0   48.0  10.4   25.9  1022.2  691.0\n",
      "1993-03-27   9.4   3.9  15.6   0.0    0.0  123.0  10.4   20.5  1021.1  703.0\n",
      "1993-03-28   8.3   5.6  11.7   6.9    0.0   42.0  15.8   31.3  1018.1    0.0\n",
      "1993-03-29   6.5   5.0  10.0  36.6    0.0   14.0  20.9   48.2  1009.6    0.0\n",
      "1993-03-30   7.3   4.4  10.0   5.3    0.0    9.0  20.2   48.2  1007.6    0.0\n",
      "1993-03-31   7.5   4.4  11.1   0.0    0.0   61.0  16.6   33.5  1015.1  691.0\n",
      "            tavg  tmin  tmax  prcp  snow   wdir  wspd  wpgt    pres   tsun\n",
      "time                                                                      \n",
      "1993-03-01  18.7  13.9  25.0   0.0   0.0   13.0  14.4  27.7  1020.3  600.0\n",
      "1993-03-02  19.5  13.3  24.4   0.0   0.0    NaN  16.6  35.3  1017.5  595.0\n",
      "1993-03-03  23.5  20.0  27.2   0.0   0.0  155.0  29.5  59.0  1012.8  541.0\n",
      "1993-03-04  22.7  18.9  26.1   3.8   0.0  256.0  23.0  55.4  1014.1  579.0\n",
      "1993-03-05  21.0  16.7  26.1   0.0   0.0  269.0  15.1  37.1  1017.6  568.0\n",
      "1993-03-06  19.8  15.6  25.6   0.0   0.0  359.0  10.8  24.1  1019.7  617.0\n",
      "1993-03-07  21.2  16.1  26.1   0.0   0.0   62.0  10.8  29.5  1020.3  459.0\n",
      "1993-03-08  21.3  18.3  25.6   0.0   0.0  331.0   9.7  24.1  1021.1  270.0\n",
      "1993-03-09  20.7  17.2  26.1   0.0   0.0  352.0  11.2  29.5  1021.7  422.0\n",
      "1993-03-10  21.6  15.6  27.2   0.0   0.0    NaN  12.2  38.9  1020.7  668.0\n",
      "1993-03-11  22.1  16.7  27.8   0.0   0.0    NaN   9.7  31.3  1018.5  659.0\n",
      "1993-03-12  23.1  17.2  27.2   0.0   0.0    NaN  21.2  51.8  1013.8  478.0\n",
      "1993-03-13  19.3  12.8  25.0  29.2   0.0  247.0  42.1  94.3  1007.6  431.0\n",
      "1993-03-14  11.5   8.3  15.0   0.0   0.0  337.0  20.5  46.4  1025.3  677.0\n",
      "1993-03-15  13.9   6.7  20.0   0.0   0.0   14.0  20.2  46.4  1029.8  431.0\n",
      "1993-03-16  20.3  18.3  22.2   0.0   0.0   95.0  22.7  44.3  1024.6    5.0\n",
      "1993-03-17  22.3  19.4  25.0  76.2   0.0    NaN  18.0  46.4  1015.5  128.0\n",
      "1993-03-18  21.1  18.9  25.0   0.0   0.0  296.0  16.6  37.1  1013.1  324.0\n",
      "1993-03-19  20.8  18.9  24.4   5.1   0.0   11.0  23.8  48.2  1018.0  353.0\n",
      "1993-03-20  22.5  20.0  26.7  28.2   0.0   72.0  18.4  38.9  1019.4  230.0\n",
      "1993-03-21  23.8  20.6  27.8   0.0   0.0  115.0  19.1  38.9  1019.8  448.0\n",
      "1993-03-22  23.5  20.6  26.7   2.5   0.0  101.0  19.8  42.5  1021.7  217.0\n",
      "1993-03-23  24.1  22.2  27.2   0.0   0.0  113.0  22.3  40.7  1021.8  294.0\n",
      "1993-03-24  24.5  21.7  28.3   0.0   0.0  129.0  13.7  27.7  1019.8  430.0\n",
      "1993-03-25  23.7  21.7  25.6   3.8   0.0   52.0   9.7  40.7  1017.6  221.0\n",
      "1993-03-26  23.9  21.1  27.8   3.0   0.0  194.0  14.0  42.5  1014.6  346.0\n",
      "1993-03-27  24.5  18.9  30.0   0.0   0.0    NaN  14.8  38.9  1014.2  563.0\n",
      "1993-03-28  23.7  19.4  28.3   0.0   0.0  293.0  14.0  29.5  1014.2  620.0\n",
      "1993-03-29  22.8  17.2  29.4   0.0   0.0  279.0  11.9  24.1  1014.7  680.0\n",
      "1993-03-30  24.7  18.9  31.7   0.0   0.0    NaN  10.4  33.5  1014.1  525.0\n",
      "1993-03-31  25.7  22.8  30.0   0.0   0.0  162.0  18.4  42.5  1013.0  369.0\n",
      "            tavg  tmin  tmax  prcp   snow   wdir  wspd  wpgt    pres   tsun\n",
      "time                                                                       \n",
      "1993-03-01  -0.8  -8.9   5.0   0.0  102.0    NaN  18.4  42.5  1019.6  299.0\n",
      "1993-03-02   5.0   2.8   8.3   0.0   51.0    NaN  15.8  33.5  1012.9  218.0\n",
      "1993-03-03   6.7   2.2  11.7   0.0    0.0   59.0  14.0  33.5  1012.2   41.0\n",
      "1993-03-04   2.5   0.6   6.1  23.4    0.0   65.0  20.5  64.8  1003.5    0.0\n",
      "1993-03-05   0.7  -0.6   2.2   5.1   76.0  202.0  15.8  33.5  1003.7    0.0\n",
      "1993-03-06   0.6  -1.7   3.9   0.8   76.0  259.0  19.1  42.5  1013.9  131.0\n",
      "1993-03-07   3.6  -3.9  10.0   0.0   25.0  213.0  16.9  42.5  1012.9  430.0\n",
      "1993-03-08   3.8   0.6   6.1   7.9    0.0  245.0  23.0  48.2  1006.3   11.0\n",
      "1993-03-09   1.5  -0.6   4.4   0.5    0.0  296.0  21.2  42.5  1016.8   28.0\n",
      "1993-03-10  -0.7  -3.3   1.7   1.8    0.0   59.0  17.6  40.7  1010.5    0.0\n",
      "1993-03-11  -2.4  -5.0   0.6   0.5    0.0  305.0  19.8  38.9  1018.9  225.0\n",
      "1993-03-12  -1.9  -5.0   1.7   2.0    0.0  275.0  11.2  33.5  1022.5    0.0\n",
      "1993-03-13  -5.6  -8.9  -1.7  27.4   51.0    1.0  31.0  76.0  1002.0    0.0\n",
      "1993-03-14 -10.6 -14.4  -8.3   1.0  635.0  287.0  32.4  70.2  1010.8  290.0\n",
      "1993-03-15  -8.5 -17.2  -1.7   0.0  610.0  212.0  16.6  35.3  1030.5  632.0\n",
      "1993-03-16   4.7  -2.2  11.7   0.5  559.0  197.0  19.8  64.8  1025.6  101.0\n",
      "1993-03-17  -0.5  -9.4   5.0   6.6  102.0  311.0  20.9  40.7  1025.5  108.0\n",
      "1993-03-18  -8.5 -13.9  -2.8   0.0  102.0    9.0  13.0  24.1  1037.1  717.0\n",
      "1993-03-19  -2.4 -11.1   6.1   0.0   51.0  102.0  15.8  33.5  1034.5  486.0\n",
      "1993-03-20   2.7   0.6   5.6   9.7    0.0  164.0  15.1  38.9  1027.3    0.0\n",
      "1993-03-21   3.5   1.7   5.0   0.5    0.0  278.0  13.3  24.1  1027.2    0.0\n",
      "1993-03-22   3.8   1.7   6.7   0.0    0.0   56.0  10.4  18.4  1029.9   39.0\n",
      "1993-03-23   6.3   2.8   8.3   7.6    0.0  108.0  16.6  44.3  1021.7    0.0\n",
      "1993-03-24  10.1   6.7  15.6   0.8    0.0   46.0   9.7  25.9  1018.8   22.0\n",
      "1993-03-25  11.5   7.2  17.8   0.0    0.0   26.0  11.9  25.9  1022.7  475.0\n",
      "1993-03-26  11.5   2.8  21.1   0.0    0.0   24.0  10.8  25.9  1021.5  544.0\n",
      "1993-03-27   9.4   6.1  13.3   1.8    0.0   56.0  13.7  33.5  1016.5   30.0\n",
      "1993-03-28  10.1   7.8  11.7   1.0    0.0   42.0  12.2  22.3  1010.9    6.0\n",
      "1993-03-29  11.9   8.9  16.7   0.0    0.0    NaN  13.3  38.9  1010.4   18.0\n",
      "1993-03-30  13.4   8.3  20.0   0.0    0.0  344.0  14.8  29.5  1012.3  559.0\n",
      "1993-03-31  12.7   5.6  21.1   6.4    0.0  106.0  16.9  40.7  1006.0  273.0\n",
      "            tavg  tmin  tmax  prcp   snow   wdir  wspd   wpgt    pres   tsun\n",
      "time                                                                        \n",
      "1993-03-01   1.0  -3.9   6.7   0.0    0.0  298.0  13.3   27.7  1017.2  442.0\n",
      "1993-03-02   4.7  -2.2  12.2   0.0    0.0  262.0  11.9   33.5  1011.3  372.0\n",
      "1993-03-03   7.2   4.4  11.1   0.0    0.0   57.0  12.2   27.7  1015.5   50.0\n",
      "1993-03-04   4.2   2.8   6.7  40.9    0.0   78.0  37.8   90.7  1009.2    0.0\n",
      "1993-03-05   3.8   1.1   6.1   2.3    0.0   71.0  23.4   42.5  1005.4    0.0\n",
      "1993-03-06   2.2  -0.6   5.0   0.3    0.0  306.0  16.2   37.1  1011.1   46.0\n",
      "1993-03-07   5.2  -0.6  11.1   0.0    0.0  236.0  13.7   25.9  1015.0  661.0\n",
      "1993-03-08   6.4   1.1  13.9   2.8    0.0  246.0  11.9   68.4  1006.5  291.0\n",
      "1993-03-09   5.0   1.1   8.9   0.0    0.0  282.0  20.2   51.8  1012.3  452.0\n",
      "1993-03-10   2.0  -0.6   4.4   0.3    0.0  201.0  12.2   33.5  1013.9  122.0\n",
      "1993-03-11   2.4  -0.6   4.4   0.0    0.0  286.0  20.5   50.0  1013.2  461.0\n",
      "1993-03-12   2.5  -2.2   7.2   0.0    0.0  254.0  13.7   25.9  1023.5  421.0\n",
      "1993-03-13   0.8  -3.3   2.8  45.0   25.0   72.0  41.8  105.5     NaN    0.0\n",
      "1993-03-14  -5.3  -7.2  -3.3   0.8  305.0  292.0  47.5   87.1   998.8  305.0\n",
      "1993-03-15  -5.5 -11.7  -1.1   0.0  279.0  274.0  21.6   46.4  1032.8  715.0\n",
      "1993-03-16   2.0  -4.4   7.2   0.0  178.0  194.0  19.1   46.4  1035.5  695.0\n",
      "1993-03-17   4.8  -2.8   7.8  26.4   25.0    NaN  14.8   50.0  1023.5    0.0\n",
      "1993-03-18  -4.9  -8.9  -1.1   0.0   25.0    0.0  27.7   57.2  1032.3  695.0\n",
      "1993-03-19  -3.4  -8.9   2.8   0.0    0.0   55.0  15.8   27.7  1040.4  726.0\n",
      "1993-03-20   0.8  -3.3   4.4   0.0    0.0  177.0  13.0   24.1  1034.5  248.0\n",
      "1993-03-21   4.8   1.7  10.0   3.3    0.0  240.0  15.1   27.7  1028.1  228.0\n",
      "1993-03-22   6.2   0.6  10.6   0.0    0.0  313.0  12.2   24.1  1030.5  315.0\n",
      "1993-03-23   4.8   2.2   7.8  12.7    0.0   87.0  13.3   27.7  1031.2    0.0\n",
      "1993-03-24   6.3   4.4   8.3  17.8    0.0   47.0  11.2   33.5  1021.0    0.0\n",
      "1993-03-25   7.4   4.4  11.1   0.0    0.0   21.0   9.0   25.9  1023.7   67.0\n",
      "1993-03-26  10.9   6.7  16.7   0.0    0.0  201.0   6.8   18.4  1023.0  442.0\n",
      "1993-03-27   9.1   3.9  13.3   0.8    0.0   81.0  20.9   40.7  1019.0    0.0\n",
      "1993-03-28  11.5   9.4  15.0   5.1    0.0   67.0  23.0   37.1  1011.8    0.0\n",
      "1993-03-29  11.9  10.6  13.9   9.4    0.0   39.0  14.8   27.7  1007.1    0.0\n",
      "1993-03-30  11.9   9.4  14.4   0.0    0.0   27.0  14.4   40.7  1007.7    0.0\n",
      "1993-03-31  12.6   6.7  20.0   0.3    0.0    NaN  14.8   31.3  1012.6  420.0\n"
     ]
    },
    {
     "data": {
      "image/png": "[encoded data removed]",
      "text/plain": [
       "<Figure size 640x480 with 1 Axes>"
      ]
     },
     "metadata": {},
     "output_type": "display_data"
    },
    {
     "data": {
      "image/png": "[encoded data removed]",
      "text/plain": [
       "<Figure size 640x480 with 1 Axes>"
      ]
     },
     "metadata": {},
     "output_type": "display_data"
    },
    {
     "data": {
      "image/png": "[encoded data removed]",
      "text/plain": [
       "<Figure size 640x480 with 1 Axes>"
      ]
     },
     "metadata": {},
     "output_type": "display_data"
    },
    {
     "data": {
      "image/png": "[encoded data removed]",
      "text/plain": [
       "<Figure size 640x480 with 1 Axes>"
      ]
     },
     "metadata": {},
     "output_type": "display_data"
    },
    {
     "data": {
      "image/png": "[encoded data removed]",
      "text/plain": [
       "<Figure size 640x480 with 1 Axes>"
      ]
     },
     "metadata": {},
     "output_type": "display_data"
    }
   ],
   "source": [
    "for city in cities:\n",
    "    data = Daily(cities[city], start, end)\n",
    "    data = data.fetch()\n",
    "    print(data)\n",
    "    # Plot temperature with line at 2013-03-14\n",
    "    data.plot(y='snow', xlim=(start, end), ylim=(0, 200), title=city)\n",
    "    plt.axvline(datetime(1993, 3, 14), color='red')\n",
    "    plt.axvline(datetime(1993, 3, 12), color='red')  "
   ]
  },
  {
   "cell_type": "code",
   "execution_count": null,
   "metadata": {},
   "outputs": [
    {
     "name": "stdout",
     "output_type": "stream",
     "text": [
      "<class 'pandas.core.frame.DataFrame'>\n",
      "DatetimeIndex: 31 entries, 1993-03-01 to 1993-03-31\n",
      "Freq: D\n",
      "Data columns (total 10 columns):\n",
      " #   Column  Non-Null Count  Dtype  \n",
      "---  ------  --------------  -----  \n",
      " 0   tavg    31 non-null     float64\n",
      " 1   tmin    31 non-null     float64\n",
      " 2   tmax    31 non-null     float64\n",
      " 3   prcp    31 non-null     float64\n",
      " 4   snow    31 non-null     float64\n",
      " 5   wdir    29 non-null     float64\n",
      " 6   wspd    31 non-null     float64\n",
      " 7   wpgt    31 non-null     float64\n",
      " 8   pres    30 non-null     float64\n",
      " 9   tsun    31 non-null     float64\n",
      "dtypes: float64(10)\n",
      "memory usage: 2.7 KB\n"
     ]
    },
    {
     "data": {
      "text/html": [
       "<div>\n",
       "<style scoped>\n",
       "    .dataframe tbody tr th:only-of-type {\n",
       "        vertical-align: middle;\n",
       "    }\n",
       "\n",
       "    .dataframe tbody tr th {\n",
       "        vertical-align: top;\n",
       "    }\n",
       "\n",
       "    .dataframe thead th {\n",
       "        text-align: right;\n",
       "    }\n",
       "</style>\n",
       "<table border=\"1\" class=\"dataframe\">\n",
       "  <thead>\n",
       "    <tr style=\"text-align: right;\">\n",
       "      <th></th>\n",
       "      <th>tavg</th>\n",
       "      <th>tmin</th>\n",
       "      <th>tmax</th>\n",
       "      <th>prcp</th>\n",
       "      <th>snow</th>\n",
       "      <th>wdir</th>\n",
       "      <th>wspd</th>\n",
       "      <th>wpgt</th>\n",
       "      <th>pres</th>\n",
       "      <th>tsun</th>\n",
       "    </tr>\n",
       "    <tr>\n",
       "      <th>time</th>\n",
       "      <th></th>\n",
       "      <th></th>\n",
       "      <th></th>\n",
       "      <th></th>\n",
       "      <th></th>\n",
       "      <th></th>\n",
       "      <th></th>\n",
       "      <th></th>\n",
       "      <th></th>\n",
       "      <th></th>\n",
       "    </tr>\n",
       "  </thead>\n",
       "  <tbody>\n",
       "    <tr>\n",
       "      <th>1993-03-01</th>\n",
       "      <td>1.0</td>\n",
       "      <td>-3.9</td>\n",
       "      <td>6.7</td>\n",
       "      <td>0.0</td>\n",
       "      <td>0.0</td>\n",
       "      <td>298.0</td>\n",
       "      <td>13.3</td>\n",
       "      <td>27.7</td>\n",
       "      <td>1017.2</td>\n",
       "      <td>442.0</td>\n",
       "    </tr>\n",
       "    <tr>\n",
       "      <th>1993-03-02</th>\n",
       "      <td>4.7</td>\n",
       "      <td>-2.2</td>\n",
       "      <td>12.2</td>\n",
       "      <td>0.0</td>\n",
       "      <td>0.0</td>\n",
       "      <td>262.0</td>\n",
       "      <td>11.9</td>\n",
       "      <td>33.5</td>\n",
       "      <td>1011.3</td>\n",
       "      <td>372.0</td>\n",
       "    </tr>\n",
       "    <tr>\n",
       "      <th>1993-03-03</th>\n",
       "      <td>7.2</td>\n",
       "      <td>4.4</td>\n",
       "      <td>11.1</td>\n",
       "      <td>0.0</td>\n",
       "      <td>0.0</td>\n",
       "      <td>57.0</td>\n",
       "      <td>12.2</td>\n",
       "      <td>27.7</td>\n",
       "      <td>1015.5</td>\n",
       "      <td>50.0</td>\n",
       "    </tr>\n",
       "    <tr>\n",
       "      <th>1993-03-04</th>\n",
       "      <td>4.2</td>\n",
       "      <td>2.8</td>\n",
       "      <td>6.7</td>\n",
       "      <td>40.9</td>\n",
       "      <td>0.0</td>\n",
       "      <td>78.0</td>\n",
       "      <td>37.8</td>\n",
       "      <td>90.7</td>\n",
       "      <td>1009.2</td>\n",
       "      <td>0.0</td>\n",
       "    </tr>\n",
       "    <tr>\n",
       "      <th>1993-03-05</th>\n",
       "      <td>3.8</td>\n",
       "      <td>1.1</td>\n",
       "      <td>6.1</td>\n",
       "      <td>2.3</td>\n",
       "      <td>0.0</td>\n",
       "      <td>71.0</td>\n",
       "      <td>23.4</td>\n",
       "      <td>42.5</td>\n",
       "      <td>1005.4</td>\n",
       "      <td>0.0</td>\n",
       "    </tr>\n",
       "  </tbody>\n",
       "</table>\n",
       "</div>"
      ],
      "text/plain": [
       "            tavg  tmin  tmax  prcp  snow   wdir  wspd  wpgt    pres   tsun\n",
       "time                                                                      \n",
       "1993-03-01   1.0  -3.9   6.7   0.0   0.0  298.0  13.3  27.7  1017.2  442.0\n",
       "1993-03-02   4.7  -2.2  12.2   0.0   0.0  262.0  11.9  33.5  1011.3  372.0\n",
       "1993-03-03   7.2   4.4  11.1   0.0   0.0   57.0  12.2  27.7  1015.5   50.0\n",
       "1993-03-04   4.2   2.8   6.7  40.9   0.0   78.0  37.8  90.7  1009.2    0.0\n",
       "1993-03-05   3.8   1.1   6.1   2.3   0.0   71.0  23.4  42.5  1005.4    0.0"
      ]
     },
     "execution_count": 33,
     "metadata": {},
     "output_type": "execute_result"
    }
   ],
   "source": [
    "data.info()\n",
    "data.head()"
   ]
  }
 ],
 "metadata": {
  "kernelspec": {
   "display_name": "nf_sql",
   "language": "python",
   "name": "python3"
  },
  "language_info": {
   "codemirror_mode": {
    "name": "ipython",
    "version": 3
   },
   "file_extension": ".py",
   "mimetype": "text/x-python",
   "name": "python",
   "nbconvert_exporter": "python",
   "pygments_lexer": "ipython3",
   "version": "3.9.13"
  },
  "orig_nbformat": 4,
  "vscode": {
   "interpreter": {
    "hash": "a81d278bed5b5b59425dcb5a82ce505657686243c184b4a6b67e69d01c4d432e"
   }
  }
 },
 "nbformat": 4,
 "nbformat_minor": 2
}
