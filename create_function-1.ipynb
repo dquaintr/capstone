{
 "cells": [
  {
   "cell_type": "code",
   "execution_count": 1,
   "metadata": {},
   "outputs": [],
   "source": [
    "\n",
    " from datetime import datetime\n",
    "import matplotlib.pyplot as plt\n",
    "from meteostat import Point, Daily, Hourly, Monthly\n",
    "import pandas as pd\n",
    "from sql_functions import get_engine\n",
    "engine = get_engine()\n",
    "\n",
    "\n"
   ]
  },
  {
   "cell_type": "code",
   "execution_count": 2,
   "metadata": {},
   "outputs": [],
   "source": [
    "import pandas as pd\n",
    "import sqlalchemy\n",
    "import psycopg2\n",
    "# Import get_engine from sql_functions.py. You will need to restart your kernel and rerun at this point since we changed the module since we first imported it.\n",
    "from sql_functions import get_engine\n",
    "# create a variable called engine using the get_engine function\n",
    "engine = get_engine()\n",
    " "
   ]
  },
  {
   "cell_type": "code",
   "execution_count": 3,
   "metadata": {},
   "outputs": [],
   "source": [
    "from dotenv import load_dotenv"
   ]
  },
  {
   "cell_type": "code",
   "execution_count": 4,
   "metadata": {},
   "outputs": [],
   "source": [
    "this_life_expectancy_df = pd.read_csv('data/life_expectancy.csv', low_memory = False)"
   ]
  },
  {
   "cell_type": "code",
   "execution_count": 5,
   "metadata": {},
   "outputs": [],
   "source": [
    "def function(table_name):\n",
    "    schema=\"bestteamever\"\n",
    "    engine=get_engine()\n",
    "    name=str(table_name)\n",
    "    if engine!=None:\n",
    "        try:\n",
    "            table_name.to_sql(name=name, # Name of SQL table\n",
    "                            con=engine, # Engine or connection\n",
    "                            if_exists='replace', # Drop the table before inserting new values\n",
    "                            schema=schema, # Use schmea that was defined earlier\n",
    "                            index=False, # Write DataFrame index as a column\n",
    "                            chunksize=5000, # Specify the number of rows in each batch to be written at a time\n",
    "                            method='multi') # Pass multiple values in a single INSERT clause\n",
    "            return(print(f\"The {name} table was imported successfully.\"))\n",
    "   # Error handling\n",
    "        except (Exception, psycopg2.DatabaseError) as error:\n",
    "            return(print(error))\n",
    "            engine = None\n"
   ]
  },
  {
   "cell_type": "code",
   "execution_count": 6,
   "metadata": {},
   "outputs": [
    {
     "name": "stdout",
     "output_type": "stream",
     "text": [
      "Identifier '          Entity Code  Year  \\\n",
      "0    Afghanistan  AFG  2000   \n",
      "1    Afghanistan  AFG  2010   \n",
      "2    Afghanistan  AFG  2015   \n",
      "3    Afghanistan  AFG  2019   \n",
      "4         Africa  NaN  2000   \n",
      "..           ...  ...   ...   \n",
      "771       Zambia  ZMB  2019   \n",
      "772     Zimbabwe  ZWE  2000   \n",
      "773     Zimbabwe  ZWE  2010   \n",
      "774     Zimbabwe  ZWE  2015   \n",
      "775     Zimbabwe  ZWE  2019   \n",
      "\n",
      "     Indicator:Life expectancy at birth (years) - Sex:Both sexes  \n",
      "0                                             54.98949            \n",
      "1                                             59.94055            \n",
      "2                                             61.65429            \n",
      "3                                             63.20990            \n",
      "4                                             52.65365            \n",
      "..                                                 ...            \n",
      "771                                           62.45290            \n",
      "772                                           46.57054            \n",
      "773                                           51.49335            \n",
      "774                                           58.47603            \n",
      "775                                           60.68252            \n",
      "\n",
      "[776 rows x 4 columns]' exceeds maximum length of 63 characters\n"
     ]
    }
   ],
   "source": [
    "function(this_life_expectancy_df)"
   ]
  },
  {
   "cell_type": "code",
   "execution_count": 9,
   "metadata": {},
   "outputs": [],
   "source": [
    "def timestwo(n):\n",
    "    i=n*2\n",
    "    return(i)"
   ]
  },
  {
   "cell_type": "code",
   "execution_count": 10,
   "metadata": {},
   "outputs": [
    {
     "data": {
      "text/plain": [
       "18"
      ]
     },
     "execution_count": 10,
     "metadata": {},
     "output_type": "execute_result"
    }
   ],
   "source": [
    "timestwo(9)"
   ]
  },
  {
   "cell_type": "code",
   "execution_count": 7,
   "metadata": {},
   "outputs": [
    {
     "ename": "SyntaxError",
     "evalue": "invalid syntax (4071386681.py, line 1)",
     "output_type": "error",
     "traceback": [
      "\u001b[0;36m  Cell \u001b[0;32mIn [7], line 1\u001b[0;36m\u001b[0m\n\u001b[0;31m    Specify which table within your database you want to push your data to. Give your table an unambiguous name.\u001b[0m\n\u001b[0m            ^\u001b[0m\n\u001b[0;31mSyntaxError\u001b[0m\u001b[0;31m:\u001b[0m invalid syntax\n"
     ]
    }
   ],
   "source": [
    "#Specify which table within your database you want to push your data to. Give your table an unambiguous name.\n",
    "# Example: flights_sp for Sina's flights table, flights_groupname or similar\n",
    "table_2 = 'final_european_gle'\n",
    "schema = 'bestteamever'\n",
    "# If the specified table doesn't exist yet, it will be created\n",
    "# With 'replace', your data will be replaced if the table already exists.\n",
    "# This may take some time ...\n",
    " \n",
    "# Write records stored in a dataframe to SQL database\n",
    "if engine!=None:\n",
    "   try:\n",
    "       final_european_gle.to_sql(name=table_2, # Name of SQL table\n",
    "                       con=engine, # Engine or connection\n",
    "                       if_exists='replace', # Drop the table before inserting new values\n",
    "                       schema=schema, # Use schmea that was defined earlier\n",
    "                       index=False, # Write DataFrame index as a column\n",
    "                       chunksize=5000, # Specify the number of rows in each batch to be written at a time\n",
    "                       method='multi') # Pass multiple values in a single INSERT clause\n",
    "       print(f\"The {table_2} table was imported successfully.\")\n",
    "   # Error handling\n",
    "   except (Exception, psycopg2.DatabaseError) as error:\n",
    "       print(error)\n",
    "       engine = None\n"
   ]
  }
 ],
 "metadata": {
  "kernelspec": {
   "display_name": "nf_sql",
   "language": "python",
   "name": "python3"
  },
  "language_info": {
   "codemirror_mode": {
    "name": "ipython",
    "version": 3
   },
   "file_extension": ".py",
   "mimetype": "text/x-python",
   "name": "python",
   "nbconvert_exporter": "python",
   "pygments_lexer": "ipython3",
   "version": "3.9.13 | packaged by conda-forge | (main, May 27 2022, 17:01:00) \n[Clang 13.0.1 ]"
  },
  "orig_nbformat": 4,
  "vscode": {
   "interpreter": {
    "hash": "a81d278bed5b5b59425dcb5a82ce505657686243c184b4a6b67e69d01c4d432e"
   }
  }
 },
 "nbformat": 4,
 "nbformat_minor": 2
}
